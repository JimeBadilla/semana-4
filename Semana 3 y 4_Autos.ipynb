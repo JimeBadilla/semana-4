{
 "cells": [
  {
   "cell_type": "markdown",
   "id": "f5e23b3b",
   "metadata": {},
   "source": [
    "<img SRC=\"carro.jpg\"/>\n",
    "<center><h1 Style=\"color:#8B008B\">Analisis de Datos</h1></center>\n",
    "<center><h3>Universidad Castro Carazo</h3></center>\n",
    "<center><h6>2022</h6></center>\n",
    "</br>\n",
    "</br>\n",
    "<p Style=\"text-aling:justify\"> Este notebook contiene analisis de datos, practica HTML imagen carro, titulos, colores y parrafo como parte de la practica/actividad semana 3 del curso 2022 </p>\n",
    "</br>\n",
    "<a href=\"https://archive.ics.uci.edu/ml/datasets.php?format=&task=&att=num&area=&numAtt=&numIns=&type=&sort=nameUp&view=table\"> Fuente para codigos HTML </a>\n",
    "   \n",
    "   \n",
    "   \n",
    "   \n",
    "   \n",
    "   \n",
    " \n",
    "   "
   ]
  },
  {
   "cell_type": "markdown",
   "id": "cfdbe6d5",
   "metadata": {},
   "source": [
    "<h2 Style=\"color:#FF8C00\">1. Carga y estandarizacion de los datos</h2>\n",
    "\n",
    "<p> Que se hace en esta etapa?</p>\n",
    "\n",
    "<ol>\n",
    "    <li>Importar las librerias necesarias</li>\n",
    "    <li>Importar el o los set de datos</li>\n",
    "    <li>Revisar los encabezados de los DataFrames</li>\n",
    "    <li>Si solo Si tenemos mas de 1 set de datos - Unir los set de datos en un unico Dataframe</li>\n",
    "</ol>\n",
    "\n",
    "<h3 Style=\"color:#008000\">1.1 Importar librerias</h3>\n",
    "    \n",
    "\n"
   ]
  },
  {
   "cell_type": "code",
   "execution_count": 8,
   "id": "cf9f481c",
   "metadata": {},
   "outputs": [],
   "source": [
    "import pandas as pd               #se va a usar para el manejo de DataFrame. \n",
    "import numpy as np                #se va a usar para el manejo de estructuras de datos.\n",
    "import matplotlib.pyplot as ptl   # se va a usar para graficos\n"
   ]
  },
  {
   "cell_type": "markdown",
   "id": "94e9dc54",
   "metadata": {},
   "source": [
    "<h3 Style=\"color:#008000\">1.2 Importar set de datos</h3>"
   ]
  },
  {
   "cell_type": "code",
   "execution_count": 10,
   "id": "c5a02dae",
   "metadata": {},
   "outputs": [],
   "source": [
    "cols= [\"symboling\", \"normalized\", \"make\", \"fuel\", \"aspiration\", \"doors\",\n",
    "\"style\", \"wheels\", \"engine\", \"base\", \"length\", \"width\", \"heingt\",\n",
    "\"curb\", \"engineType\", \"Cylinders\", \"engine-size\", \"system\", \"bore\", \"stroke\",\n",
    "\"compression\", \"horsepower\", \"peak\", \"City\", \"Higway\", \"price\"]\n",
    "\n",
    "df_1er_autos = pd.read_csv(\"autos.csv\", names=cols)\n",
    "df_2do_autos = pd.read_csv(\"Autos 1.csv\", names=cols)\n"
   ]
  },
  {
   "cell_type": "code",
   "execution_count": 11,
   "id": "5fb2d023",
   "metadata": {},
   "outputs": [
    {
     "data": {
      "text/plain": [
       "(197, 26)"
      ]
     },
     "execution_count": 11,
     "metadata": {},
     "output_type": "execute_result"
    }
   ],
   "source": [
    "df_1er_autos.shape #Esto me permite conocer el tamano del DataFrame\n"
   ]
  },
  {
   "cell_type": "code",
   "execution_count": 12,
   "id": "c5055f29",
   "metadata": {},
   "outputs": [
    {
     "data": {
      "text/plain": [
       "(29, 26)"
      ]
     },
     "execution_count": 12,
     "metadata": {},
     "output_type": "execute_result"
    }
   ],
   "source": [
    "df_2do_autos.shape "
   ]
  },
  {
   "cell_type": "code",
   "execution_count": null,
   "id": "919889c2",
   "metadata": {},
   "outputs": [],
   "source": [
    "df_1er_autos.head(10) "
   ]
  }
 ],
 "metadata": {
  "kernelspec": {
   "display_name": "Python 3 (ipykernel)",
   "language": "python",
   "name": "python3"
  },
  "language_info": {
   "codemirror_mode": {
    "name": "ipython",
    "version": 3
   },
   "file_extension": ".py",
   "mimetype": "text/x-python",
   "name": "python",
   "nbconvert_exporter": "python",
   "pygments_lexer": "ipython3",
   "version": "3.9.12"
  }
 },
 "nbformat": 4,
 "nbformat_minor": 5
}
